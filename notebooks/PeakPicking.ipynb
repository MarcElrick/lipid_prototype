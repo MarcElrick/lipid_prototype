{
 "cells": [
  {
   "cell_type": "code",
   "execution_count": 1,
   "metadata": {},
   "outputs": [],
   "source": [
    "import sys\n",
    "sys.path.append('/home/simon/git/pymzm')"
   ]
  },
  {
   "cell_type": "code",
   "execution_count": 2,
   "metadata": {},
   "outputs": [],
   "source": [
    "%load_ext autoreload\n",
    "%autoreload 2"
   ]
  },
  {
   "cell_type": "code",
   "execution_count": 3,
   "metadata": {},
   "outputs": [],
   "source": [
    "from mzmine import pick_peaks"
   ]
  },
  {
   "cell_type": "code",
   "execution_count": 4,
   "metadata": {},
   "outputs": [],
   "source": [
    "xml_template = '/home/simon/git/lipid_prototype/batch_files/batch_file_253.xml'\n",
    "mzmine_command = '/home/simon/MZmine-2.53-Linux/startMZmine-Linux'"
   ]
  },
  {
   "cell_type": "markdown",
   "metadata": {},
   "source": [
    "## Condition 1 positive"
   ]
  },
  {
   "cell_type": "code",
   "execution_count": 5,
   "metadata": {},
   "outputs": [
    {
     "name": "stdout",
     "output_type": "stream",
     "text": [
      "Creating xml batch file for 0_pp_d20_pos_1.mzML\n",
      "/home/simon/data/lipid_files/lipid_files/Condition_1/Pos/picked_peaks/0_pp_d20_pos_1_box.csv\n",
      "Running mzMine for 0_pp_d20_pos_1.mzML\n",
      "Creating xml batch file for 48_pp_d20_pos_1.mzML\n",
      "/home/simon/data/lipid_files/lipid_files/Condition_1/Pos/picked_peaks/48_pp_d20_pos_1_box.csv\n",
      "Running mzMine for 48_pp_d20_pos_1.mzML\n",
      "Creating xml batch file for 96_pp_d20_.mzML\n",
      "/home/simon/data/lipid_files/lipid_files/Condition_1/Pos/picked_peaks/96_pp_d20__box.csv\n",
      "Running mzMine for 96_pp_d20_.mzML\n",
      "Creating xml batch file for 24_pp_s3_pos_1.mzML\n",
      "/home/simon/data/lipid_files/lipid_files/Condition_1/Pos/picked_peaks/24_pp_s3_pos_1_box.csv\n",
      "Running mzMine for 24_pp_s3_pos_1.mzML\n",
      "Creating xml batch file for 72_pp_d20_pos_1.mzML\n",
      "/home/simon/data/lipid_files/lipid_files/Condition_1/Pos/picked_peaks/72_pp_d20_pos_1_box.csv\n",
      "Running mzMine for 72_pp_d20_pos_1.mzML\n",
      "Creating xml batch file for 8_pp_d20_pos_1.mzML\n",
      "/home/simon/data/lipid_files/lipid_files/Condition_1/Pos/picked_peaks/8_pp_d20_pos_1_box.csv\n",
      "Running mzMine for 8_pp_d20_pos_1.mzML\n"
     ]
    }
   ],
   "source": [
    "import glob,os\n",
    "mzml_folder = \"/home/simon/data/lipid_files/lipid_files/Condition_1/Pos/\"\n",
    "mzml_files = glob.glob(os.path.join(mzml_folder,'*.mzML'))\n",
    "output_folder = os.path.join(mzml_folder,'picked_peaks')\n",
    "pick_peaks(mzml_files,\n",
    "           xml_template = xml_template,\n",
    "           output_dir = output_folder,\n",
    "           mzmine_command = mzmine_command, \n",
    "           force = True)"
   ]
  },
  {
   "cell_type": "markdown",
   "metadata": {},
   "source": [
    "# Condition 2 positive"
   ]
  },
  {
   "cell_type": "code",
   "execution_count": 6,
   "metadata": {},
   "outputs": [
    {
     "name": "stdout",
     "output_type": "stream",
     "text": [
      "Creating xml batch file for 72_d20_pos_2.mzML\n",
      "/home/simon/data/lipid_files/lipid_files/Condition_2/Pos/picked_peaks/72_d20_pos_2_box.csv\n",
      "Running mzMine for 72_d20_pos_2.mzML\n",
      "Creating xml batch file for 48_d20_pos_2.mzML\n",
      "/home/simon/data/lipid_files/lipid_files/Condition_2/Pos/picked_peaks/48_d20_pos_2_box.csv\n",
      "Running mzMine for 48_d20_pos_2.mzML\n",
      "Creating xml batch file for 24_d20_pos_2.mzML\n",
      "/home/simon/data/lipid_files/lipid_files/Condition_2/Pos/picked_peaks/24_d20_pos_2_box.csv\n",
      "Running mzMine for 24_d20_pos_2.mzML\n",
      "Creating xml batch file for 96_d20_pos_2.mzML\n",
      "/home/simon/data/lipid_files/lipid_files/Condition_2/Pos/picked_peaks/96_d20_pos_2_box.csv\n",
      "Running mzMine for 96_d20_pos_2.mzML\n",
      "Creating xml batch file for 120_d20_pos_2.mzML\n",
      "/home/simon/data/lipid_files/lipid_files/Condition_2/Pos/picked_peaks/120_d20_pos_2_box.csv\n",
      "Running mzMine for 120_d20_pos_2.mzML\n",
      "Creating xml batch file for 8_d20_pos_2.mzML\n",
      "/home/simon/data/lipid_files/lipid_files/Condition_2/Pos/picked_peaks/8_d20_pos_2_box.csv\n",
      "Running mzMine for 8_d20_pos_2.mzML\n",
      "Creating xml batch file for 0_d20_pos_2.mzML\n",
      "/home/simon/data/lipid_files/lipid_files/Condition_2/Pos/picked_peaks/0_d20_pos_2_box.csv\n",
      "Running mzMine for 0_d20_pos_2.mzML\n"
     ]
    }
   ],
   "source": [
    "mzml_folder = \"/home/simon/data/lipid_files/lipid_files/Condition_2/Pos/\"\n",
    "mzml_files = glob.glob(os.path.join(mzml_folder,'*.mzML'))\n",
    "output_folder = os.path.join(mzml_folder,'picked_peaks')\n",
    "pick_peaks(mzml_files,\n",
    "           xml_template = xml_template,\n",
    "           output_dir = output_folder,\n",
    "           mzmine_command = mzmine_command, \n",
    "           force = True)"
   ]
  },
  {
   "cell_type": "markdown",
   "metadata": {},
   "source": [
    "# Condition 1 negative"
   ]
  },
  {
   "cell_type": "code",
   "execution_count": 7,
   "metadata": {},
   "outputs": [
    {
     "name": "stdout",
     "output_type": "stream",
     "text": [
      "Creating xml batch file for 8_pp_d20_neg_1.mzML\n",
      "/home/simon/data/lipid_files/lipid_files/Condition_1/Neg/picked_peaks/8_pp_d20_neg_1_box.csv\n",
      "Running mzMine for 8_pp_d20_neg_1.mzML\n",
      "Creating xml batch file for 48_pp_d20_neg_1.mzML\n",
      "/home/simon/data/lipid_files/lipid_files/Condition_1/Neg/picked_peaks/48_pp_d20_neg_1_box.csv\n",
      "Running mzMine for 48_pp_d20_neg_1.mzML\n",
      "Creating xml batch file for 120_pp_d20_pos_1.mzML\n",
      "/home/simon/data/lipid_files/lipid_files/Condition_1/Neg/picked_peaks/120_pp_d20_pos_1_box.csv\n",
      "Running mzMine for 120_pp_d20_pos_1.mzML\n",
      "Creating xml batch file for 96_pp_d20_neg_1.mzML\n",
      "/home/simon/data/lipid_files/lipid_files/Condition_1/Neg/picked_peaks/96_pp_d20_neg_1_box.csv\n",
      "Running mzMine for 96_pp_d20_neg_1.mzML\n",
      "Creating xml batch file for 72_pp_d20_neg_1.mzML\n",
      "/home/simon/data/lipid_files/lipid_files/Condition_1/Neg/picked_peaks/72_pp_d20_neg_1_box.csv\n",
      "Running mzMine for 72_pp_d20_neg_1.mzML\n",
      "Creating xml batch file for 120_pp_d20_neg_1.mzML\n",
      "/home/simon/data/lipid_files/lipid_files/Condition_1/Neg/picked_peaks/120_pp_d20_neg_1_box.csv\n",
      "Running mzMine for 120_pp_d20_neg_1.mzML\n",
      "Creating xml batch file for 24_pp_d20_neg_1.mzML\n",
      "/home/simon/data/lipid_files/lipid_files/Condition_1/Neg/picked_peaks/24_pp_d20_neg_1_box.csv\n",
      "Running mzMine for 24_pp_d20_neg_1.mzML\n",
      "Creating xml batch file for 0_pp_d20_neg_1.mzML\n",
      "/home/simon/data/lipid_files/lipid_files/Condition_1/Neg/picked_peaks/0_pp_d20_neg_1_box.csv\n",
      "Running mzMine for 0_pp_d20_neg_1.mzML\n"
     ]
    }
   ],
   "source": [
    "mzml_folder = \"/home/simon/data/lipid_files/lipid_files/Condition_1/Neg/\"\n",
    "mzml_files = glob.glob(os.path.join(mzml_folder,'*.mzML'))\n",
    "output_folder = os.path.join(mzml_folder,'picked_peaks')\n",
    "pick_peaks(mzml_files,\n",
    "           xml_template = xml_template,\n",
    "           output_dir = output_folder,\n",
    "           mzmine_command = mzmine_command, \n",
    "           force = True)"
   ]
  },
  {
   "cell_type": "markdown",
   "metadata": {},
   "source": [
    "# Condition 2 negative"
   ]
  },
  {
   "cell_type": "code",
   "execution_count": null,
   "metadata": {},
   "outputs": [
    {
     "name": "stdout",
     "output_type": "stream",
     "text": [
      "Creating xml batch file for 48_d20_neg_2.mzML\n",
      "/home/simon/data/lipid_files/lipid_files/Condition_2/Neg/picked_peaks/48_d20_neg_2_box.csv\n",
      "Running mzMine for 48_d20_neg_2.mzML\n"
     ]
    }
   ],
   "source": [
    "mzml_folder = \"/home/simon/data/lipid_files/lipid_files/Condition_2/Neg/\"\n",
    "mzml_files = glob.glob(os.path.join(mzml_folder,'*.mzML'))\n",
    "output_folder = os.path.join(mzml_folder,'picked_peaks')\n",
    "pick_peaks(mzml_files,\n",
    "           xml_template = xml_template,\n",
    "           output_dir = output_folder,\n",
    "           mzmine_command = mzmine_command, \n",
    "           force = True)"
   ]
  },
  {
   "cell_type": "code",
   "execution_count": null,
   "metadata": {},
   "outputs": [],
   "source": []
  }
 ],
 "metadata": {
  "kernelspec": {
   "display_name": "Python 3",
   "language": "python",
   "name": "python3"
  },
  "language_info": {
   "codemirror_mode": {
    "name": "ipython",
    "version": 3
   },
   "file_extension": ".py",
   "mimetype": "text/x-python",
   "name": "python",
   "nbconvert_exporter": "python",
   "pygments_lexer": "ipython3",
   "version": "3.6.9"
  }
 },
 "nbformat": 4,
 "nbformat_minor": 4
}
