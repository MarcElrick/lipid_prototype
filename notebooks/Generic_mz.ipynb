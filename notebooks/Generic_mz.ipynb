{
 "cells": [
  {
   "cell_type": "code",
   "execution_count": 1,
   "metadata": {},
   "outputs": [],
   "source": [
    "import sys,os,glob"
   ]
  },
  {
   "cell_type": "code",
   "execution_count": 2,
   "metadata": {},
   "outputs": [],
   "source": [
    "sys.path.append('/home/simon/git/pymzm')\n",
    "sys.path.append('/home/simon/git/mass-spec-utils')"
   ]
  },
  {
   "cell_type": "code",
   "execution_count": 3,
   "metadata": {},
   "outputs": [],
   "source": [
    "condition = 1\n",
    "ion_mode = 'Pos'"
   ]
  },
  {
   "cell_type": "code",
   "execution_count": 4,
   "metadata": {},
   "outputs": [],
   "source": [
    "mzml_folder = '/home/simon/data/lipid_files/lipid_files/Condition_{}/{}/'.format(condition,ion_mode)\n",
    "pp_folder = os.path.join(mzml_folder,'picked_peaks')"
   ]
  },
  {
   "cell_type": "code",
   "execution_count": 52,
   "metadata": {},
   "outputs": [
    {
     "name": "stdout",
     "output_type": "stream",
     "text": [
      "/home/simon/data/lipid_files/lipid_files/Condition_1/Pos/0_pp_d20_pos_1.mzML /home/simon/data/lipid_files/lipid_files/Condition_1/Pos/picked_peaks/0_pp_d20_pos_1_box.csv\n",
      "/home/simon/data/lipid_files/lipid_files/Condition_1/Pos/48_pp_d20_pos_1.mzML /home/simon/data/lipid_files/lipid_files/Condition_1/Pos/picked_peaks/48_pp_d20_pos_1_box.csv\n",
      "/home/simon/data/lipid_files/lipid_files/Condition_1/Pos/96_pp_d20_.mzML /home/simon/data/lipid_files/lipid_files/Condition_1/Pos/picked_peaks/96_pp_d20__box.csv\n",
      "/home/simon/data/lipid_files/lipid_files/Condition_1/Pos/72_pp_d20_pos_1.mzML /home/simon/data/lipid_files/lipid_files/Condition_1/Pos/picked_peaks/72_pp_d20_pos_1_box.csv\n",
      "/home/simon/data/lipid_files/lipid_files/Condition_1/Pos/8_pp_d20_pos_1.mzML /home/simon/data/lipid_files/lipid_files/Condition_1/Pos/picked_peaks/8_pp_d20_pos_1_box.csv\n"
     ]
    }
   ],
   "source": [
    "mzml_file_list = glob.glob(os.path.join(mzml_folder,'*.mzML'))\n",
    "\n",
    "pos = mzml_file_list.index('/home/simon/data/lipid_files/lipid_files/Condition_1/Pos/24_pp_s3_pos_1.mzML')\n",
    "del mzml_file_list[pos]\n",
    "mzml_pp = []\n",
    "for m in mzml_file_list:\n",
    "    final_part = m.split(os.sep)[-1]\n",
    "    pp_name = final_part.split('.')[0] + '_box.csv'\n",
    "    mzml_pp.append((m,os.path.join(pp_folder,pp_name)))\n",
    "    \n",
    "for m,p in mzml_pp:\n",
    "    print(m,p)"
   ]
  },
  {
   "cell_type": "code",
   "execution_count": 53,
   "metadata": {},
   "outputs": [],
   "source": [
    "from ms2_matching import load_picked_boxes,MZMLFile"
   ]
  },
  {
   "cell_type": "code",
   "execution_count": 54,
   "metadata": {},
   "outputs": [],
   "source": [
    "all_boxes = {}\n",
    "for m,p in mzml_pp:\n",
    "    all_boxes[p] = load_picked_boxes(p)"
   ]
  },
  {
   "cell_type": "code",
   "execution_count": 55,
   "metadata": {},
   "outputs": [
    {
     "name": "stdout",
     "output_type": "stream",
     "text": [
      "Loaded 1968 scans\n",
      "Loaded 1968 scans\n",
      "Loaded 1967 scans\n",
      "Loaded 1968 scans\n",
      "Loaded 1968 scans\n"
     ]
    }
   ],
   "source": [
    "all_mzml_file_obj = {}\n",
    "for m,p in mzml_pp:\n",
    "    all_mzml_file_obj[p] = MZMLFile(m)"
   ]
  },
  {
   "cell_type": "code",
   "execution_count": 56,
   "metadata": {},
   "outputs": [],
   "source": [
    "from chromatograms import add_chromatograms_to_boxes\n",
    "for p in all_boxes:\n",
    "    add_chromatograms_to_boxes(all_boxes[p],all_mzml_file_obj[p])\n",
    "    "
   ]
  },
  {
   "cell_type": "code",
   "execution_count": 57,
   "metadata": {},
   "outputs": [],
   "source": [
    "def find_boxes(boxes,mz,rt_in_seconds,mz_tol = 0.01,rt_tol = 10):\n",
    "    sub_boxes = list(filter(lambda x: abs(x.mz - mz) <= mz_tol and \n",
    "                            abs(x.rt_in_seconds - rt_in_seconds) <= rt_tol,boxes))\n",
    "    return sub_boxes"
   ]
  },
  {
   "cell_type": "code",
   "execution_count": 58,
   "metadata": {},
   "outputs": [],
   "source": [
    "# order files by time\n",
    "ordered_files = list(all_boxes.keys())\n",
    "ordered_files.sort(key = lambda x: int(x.split(os.sep)[-1].split('_')[0]))\n",
    "\n"
   ]
  },
  {
   "cell_type": "code",
   "execution_count": 83,
   "metadata": {},
   "outputs": [
    {
     "name": "stdout",
     "output_type": "stream",
     "text": [
      "The autoreload extension is already loaded. To reload it, use:\n",
      "  %reload_ext autoreload\n",
      "PC 34:1 ('C42H82NO8P', 'C42H81DNO8P', 760.5836, 628.2, '[M+H]+')\n",
      "PC 34:2 ('C42H80NO8P', 'C42H79DNO8P', 758.5677, 586.8, '[M+H]+')\n",
      "PC 34:0 ('C42H84NO8P', 'C42H83DNO8P', 762.5997, 672.0, '[M+H]+')\n",
      "[(762.6007321188208, 762.599365234375, 670.188), (762.6007321188208, 762.60009765625, 671.8199999999999)]\n"
     ]
    },
    {
     "ename": "AssertionError",
     "evalue": "None",
     "output_type": "error",
     "traceback": [
      "\u001b[0;31m---------------------------------------------------------------------------\u001b[0m",
      "\u001b[0;31mAssertionError\u001b[0m                            Traceback (most recent call last)",
      "\u001b[0;32m<ipython-input-83-2cf3a90df19b>\u001b[0m in \u001b[0;36m<module>\u001b[0;34m\u001b[0m\n\u001b[1;32m     40\u001b[0m     \u001b[0;32mfor\u001b[0m \u001b[0mi\u001b[0m\u001b[0;34m,\u001b[0m\u001b[0mo\u001b[0m \u001b[0;32min\u001b[0m \u001b[0menumerate\u001b[0m\u001b[0;34m(\u001b[0m\u001b[0mordered_files\u001b[0m\u001b[0;34m)\u001b[0m\u001b[0;34m:\u001b[0m\u001b[0;34m\u001b[0m\u001b[0;34m\u001b[0m\u001b[0m\n\u001b[1;32m     41\u001b[0m         \u001b[0ml\u001b[0m \u001b[0;34m=\u001b[0m \u001b[0mfind_boxes\u001b[0m\u001b[0;34m(\u001b[0m\u001b[0mall_boxes\u001b[0m\u001b[0;34m[\u001b[0m\u001b[0mo\u001b[0m\u001b[0;34m]\u001b[0m\u001b[0;34m,\u001b[0m\u001b[0mmz\u001b[0m\u001b[0;34m,\u001b[0m\u001b[0mrt\u001b[0m\u001b[0;34m,\u001b[0m\u001b[0mrt_tol\u001b[0m \u001b[0;34m=\u001b[0m \u001b[0;36m5\u001b[0m\u001b[0;34m)\u001b[0m\u001b[0;34m\u001b[0m\u001b[0;34m\u001b[0m\u001b[0m\n\u001b[0;32m---> 42\u001b[0;31m         \u001b[0;32massert\u001b[0m \u001b[0mlen\u001b[0m\u001b[0;34m(\u001b[0m\u001b[0ml\u001b[0m\u001b[0;34m)\u001b[0m \u001b[0;34m==\u001b[0m \u001b[0;36m1\u001b[0m\u001b[0;34m,\u001b[0m\u001b[0mprint\u001b[0m\u001b[0;34m(\u001b[0m\u001b[0;34m[\u001b[0m\u001b[0;34m(\u001b[0m\u001b[0mmz\u001b[0m\u001b[0;34m,\u001b[0m\u001b[0mb\u001b[0m\u001b[0;34m.\u001b[0m\u001b[0mmz\u001b[0m\u001b[0;34m,\u001b[0m\u001b[0mb\u001b[0m\u001b[0;34m.\u001b[0m\u001b[0mrt_in_seconds\u001b[0m\u001b[0;34m)\u001b[0m \u001b[0;32mfor\u001b[0m \u001b[0mb\u001b[0m \u001b[0;32min\u001b[0m \u001b[0ml\u001b[0m\u001b[0;34m]\u001b[0m\u001b[0;34m)\u001b[0m\u001b[0;34m\u001b[0m\u001b[0;34m\u001b[0m\u001b[0m\n\u001b[0m\u001b[1;32m     43\u001b[0m         \u001b[0mg\u001b[0m \u001b[0;34m=\u001b[0m \u001b[0mpeak_group\u001b[0m\u001b[0;34m(\u001b[0m\u001b[0mall_boxes\u001b[0m\u001b[0;34m[\u001b[0m\u001b[0mo\u001b[0m\u001b[0;34m]\u001b[0m\u001b[0;34m,\u001b[0m\u001b[0ml\u001b[0m\u001b[0;34m[\u001b[0m\u001b[0;36m0\u001b[0m\u001b[0;34m]\u001b[0m\u001b[0;34m,\u001b[0m\u001b[0mthreshold\u001b[0m \u001b[0;34m=\u001b[0m \u001b[0;36m0.75\u001b[0m\u001b[0;34m,\u001b[0m\u001b[0mmax_mz_diff\u001b[0m \u001b[0;34m=\u001b[0m \u001b[0;36m10\u001b[0m\u001b[0;34m)\u001b[0m\u001b[0;34m\u001b[0m\u001b[0;34m\u001b[0m\u001b[0m\n\u001b[1;32m     44\u001b[0m \u001b[0;31m#         print(len(g))\u001b[0m\u001b[0;34m\u001b[0m\u001b[0;34m\u001b[0m\u001b[0;34m\u001b[0m\u001b[0m\n",
      "\u001b[0;31mAssertionError\u001b[0m: None"
     ]
    },
    {
     "data": {
      "image/png": "[encoded data removed]",
      "text/plain": [
       "<Figure size 720x288 with 5 Axes>"
      ]
     },
     "metadata": {
      "needs_background": "light"
     },
     "output_type": "display_data"
    },
    {
     "data": {
      "image/png": "[encoded data removed]",
      "text/plain": [
       "<Figure size 720x288 with 5 Axes>"
      ]
     },
     "metadata": {
      "needs_background": "light"
     },
     "output_type": "display_data"
    }
   ],
   "source": [
    "%load_ext autoreload\n",
    "%autoreload 2\n",
    "from molmass import Formula\n",
    "from adduct_rules import AdductTransformer\n",
    "import numpy as np\n",
    "import pylab as plt\n",
    "%matplotlib inline\n",
    "at = AdductTransformer()\n",
    "from chromatograms import peak_group\n",
    "lipids = {'PC 34:1':('C42H82NO8P','C42H81DNO8P',760.5836,10.47*60,'[M+H]+'),\n",
    "          'PC 34:2':('C42H80NO8P','C42H79DNO8P',758.5677,9.78*60.0,'[M+H]+'),\n",
    "          'PC 34:0':('C42H84NO8P','C42H83DNO8P',762.5997,11.2*60.0,'[M+H]+')}\n",
    "for lipid,dets in lipids.items():\n",
    "    print(lipid,dets)\n",
    "    f = Formula(dets[0])\n",
    "#     print(\"Mono: \",f.isotope.mass)\n",
    "    if ion_mode == 'Pos':\n",
    "        mz = at.mass2ion(f.isotope.mass,dets[4])\n",
    "    rt = dets[3]\n",
    "#     print(mz,rt)\n",
    "    \n",
    "    \n",
    "    normal_spec = f.spectrum()\n",
    "    heavy_spec = Formula(dets[1]).spectrum()\n",
    "\n",
    "    mz_vals = []\n",
    "    x = []\n",
    "    y = []\n",
    "    for key,(m,i) in normal_spec.items():\n",
    "        temp_mz = at.mass2ion(m,dets[4])\n",
    "        mz_vals.append(int(temp_mz))\n",
    "        x.append(i)\n",
    "        y.append(heavy_spec.get(key,(0,0))[1])\n",
    "\n",
    "    n_rows = len(ordered_files)\n",
    "    n_cols = len(x)\n",
    "\n",
    "    data_mat = np.zeros((n_rows,n_cols),np.double)\n",
    "\n",
    "    for i,o in enumerate(ordered_files):\n",
    "        l = find_boxes(all_boxes[o],mz,rt,rt_tol = 5)\n",
    "        assert len(l) == 1,print([(mz,b.mz,b.rt_in_seconds) for b in l])\n",
    "        g = peak_group(all_boxes[o],l[0],threshold = 0.75,max_mz_diff = 10)\n",
    "#         print(len(g))\n",
    "        \n",
    "        \n",
    "        for box in g:\n",
    "            for j,m in enumerate(mz_vals):\n",
    "                if int(box.mz) == m:\n",
    "                    data_mat[i,j] = box.height\n",
    "    data_mat /= data_mat.sum(axis=1)[:,None]\n",
    "#     plt.imshow(data_mat,aspect='auto')\n",
    "#     plt.colorbar()\n",
    "    \n",
    "    x = np.array(x)\n",
    "    y = np.array(y)\n",
    "\n",
    "    recon = []\n",
    "\n",
    "    all_a = []\n",
    "    for row in data_mat:\n",
    "        f = row - y\n",
    "        m = x-y\n",
    "        a = ((f*m).sum())/((m*m).sum())\n",
    "        all_a.append(a)\n",
    "        recon.append(a*x + (1-a)*y)\n",
    "\n",
    "    recon = np.array(recon)\n",
    "    times = [int(x.split(os.sep)[-1].split('_')[0]) for x in ordered_files]\n",
    "\n",
    "    plt.figure(figsize=(10,4))\n",
    "    plt.subplot(1,3,1)\n",
    "    plt.imshow(data_mat,aspect='auto')\n",
    "    plt.colorbar()\n",
    "    plt.subplot(1,3,2)\n",
    "    plt.imshow(np.abs(data_mat - recon),aspect='auto')\n",
    "    plt.colorbar()\n",
    "    plt.subplot(1,3,3)\n",
    "    plt.plot(times,all_a,'ro')\n",
    "    plt.xlabel('Time (hours)')\n",
    "    plt.ylabel('$a_t$')\n",
    "\n",
    "\n",
    "    "
   ]
  },
  {
   "cell_type": "code",
   "execution_count": null,
   "metadata": {},
   "outputs": [],
   "source": []
  }
 ],
 "metadata": {
  "kernelspec": {
   "display_name": "Python 3",
   "language": "python",
   "name": "python3"
  },
  "language_info": {
   "codemirror_mode": {
    "name": "ipython",
    "version": 3
   },
   "file_extension": ".py",
   "mimetype": "text/x-python",
   "name": "python",
   "nbconvert_exporter": "python",
   "pygments_lexer": "ipython3",
   "version": "3.6.9"
  }
 },
 "nbformat": 4,
 "nbformat_minor": 4
}
