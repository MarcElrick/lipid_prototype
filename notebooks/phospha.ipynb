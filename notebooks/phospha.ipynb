{
 "cells": [
  {
   "cell_type": "markdown",
   "metadata": {},
   "source": [
    "## Phosphatidylcholine (34:0) "
   ]
  },
  {
   "cell_type": "code",
   "execution_count": 1,
   "metadata": {},
   "outputs": [],
   "source": [
    "import sys,os,glob"
   ]
  },
  {
   "cell_type": "code",
   "execution_count": 2,
   "metadata": {},
   "outputs": [],
   "source": [
    "sys.path.append('/home/simon/git/pymzm')\n",
    "sys.path.append('/home/simon/git/mass-spec-utils')"
   ]
  },
  {
   "cell_type": "code",
   "execution_count": 18,
   "metadata": {},
   "outputs": [],
   "source": [
    "condition = 1\n",
    "ion_mode = 'Pos'"
   ]
  },
  {
   "cell_type": "code",
   "execution_count": 19,
   "metadata": {},
   "outputs": [],
   "source": [
    "mzml_folder = '/home/simon/data/lipid_files/lipid_files/Condition_{}/{}/'.format(condition,ion_mode)\n",
    "pp_folder = os.path.join(mzml_folder,'picked_peaks')"
   ]
  },
  {
   "cell_type": "code",
   "execution_count": 20,
   "metadata": {},
   "outputs": [
    {
     "name": "stdout",
     "output_type": "stream",
     "text": [
      "/home/simon/data/lipid_files/lipid_files/Condition_1/Pos/0_pp_d20_pos_1.mzML /home/simon/data/lipid_files/lipid_files/Condition_1/Pos/picked_peaks/0_pp_d20_pos_1_box.csv\n",
      "/home/simon/data/lipid_files/lipid_files/Condition_1/Pos/48_pp_d20_pos_1.mzML /home/simon/data/lipid_files/lipid_files/Condition_1/Pos/picked_peaks/48_pp_d20_pos_1_box.csv\n",
      "/home/simon/data/lipid_files/lipid_files/Condition_1/Pos/96_pp_d20_.mzML /home/simon/data/lipid_files/lipid_files/Condition_1/Pos/picked_peaks/96_pp_d20__box.csv\n",
      "/home/simon/data/lipid_files/lipid_files/Condition_1/Pos/24_pp_s3_pos_1.mzML /home/simon/data/lipid_files/lipid_files/Condition_1/Pos/picked_peaks/24_pp_s3_pos_1_box.csv\n",
      "/home/simon/data/lipid_files/lipid_files/Condition_1/Pos/72_pp_d20_pos_1.mzML /home/simon/data/lipid_files/lipid_files/Condition_1/Pos/picked_peaks/72_pp_d20_pos_1_box.csv\n",
      "/home/simon/data/lipid_files/lipid_files/Condition_1/Pos/8_pp_d20_pos_1.mzML /home/simon/data/lipid_files/lipid_files/Condition_1/Pos/picked_peaks/8_pp_d20_pos_1_box.csv\n"
     ]
    }
   ],
   "source": [
    "mzml_file_list = glob.glob(os.path.join(mzml_folder,'*.mzML'))\n",
    "mzml_pp = []\n",
    "for m in mzml_file_list:\n",
    "    final_part = m.split(os.sep)[-1]\n",
    "    pp_name = final_part.split('.')[0] + '_box.csv'\n",
    "    mzml_pp.append((m,os.path.join(pp_folder,pp_name)))\n",
    "    \n",
    "for m,p in mzml_pp:\n",
    "    print(m,p)"
   ]
  },
  {
   "cell_type": "code",
   "execution_count": 21,
   "metadata": {},
   "outputs": [],
   "source": [
    "from ms2_matching import load_picked_boxes,MZMLFile"
   ]
  },
  {
   "cell_type": "code",
   "execution_count": 22,
   "metadata": {},
   "outputs": [],
   "source": [
    "all_boxes = {}\n",
    "for m,p in mzml_pp:\n",
    "    all_boxes[p] = load_picked_boxes(p)"
   ]
  },
  {
   "cell_type": "code",
   "execution_count": 23,
   "metadata": {},
   "outputs": [
    {
     "name": "stdout",
     "output_type": "stream",
     "text": [
      "Loaded 1968 scans\n",
      "Loaded 1968 scans\n",
      "Loaded 1967 scans\n",
      "Loaded 1968 scans\n",
      "Loaded 1968 scans\n",
      "Loaded 1968 scans\n"
     ]
    }
   ],
   "source": [
    "all_mzml_file_obj = {}\n",
    "for m,p in mzml_pp:\n",
    "    all_mzml_file_obj[p] = MZMLFile(m)"
   ]
  },
  {
   "cell_type": "markdown",
   "metadata": {},
   "source": [
    "Add chromatograms back to the peaks"
   ]
  },
  {
   "cell_type": "code",
   "execution_count": 24,
   "metadata": {},
   "outputs": [],
   "source": [
    "from chromatograms import add_chromatograms_to_boxes\n",
    "for p in all_boxes:\n",
    "    add_chromatograms_to_boxes(all_boxes[p],all_mzml_file_obj[p])\n",
    "    "
   ]
  },
  {
   "cell_type": "code",
   "execution_count": 25,
   "metadata": {},
   "outputs": [],
   "source": [
    "from chromatograms import cluster_box_chromatograms\n",
    "all_groups = {}\n",
    "for p in all_boxes:\n",
    "    all_groups[p],_ = cluster_box_chromatograms(all_boxes[p],threshold = 0.8,max_mz_diff = 10)"
   ]
  },
  {
   "cell_type": "code",
   "execution_count": 26,
   "metadata": {},
   "outputs": [],
   "source": [
    "def find_boxes(boxes,mz,rt_in_seconds,mz_tol = 0.01,rt_tol = 10):\n",
    "    sub_boxes = list(filter(lambda x: abs(x.mz - mz) <= mz_tol and \n",
    "                            abs(x.rt_in_seconds - rt_in_seconds) <= rt_tol,boxes))\n",
    "    return sub_boxes"
   ]
  },
  {
   "cell_type": "code",
   "execution_count": 33,
   "metadata": {},
   "outputs": [
    {
     "name": "stdout",
     "output_type": "stream",
     "text": [
      "Mono:  761.59345566673\n",
      "760.584 627\n"
     ]
    },
    {
     "data": {
      "text/plain": [
       "{761: [761.593455666729, 0.6159481852928886],\n",
       " 762: [762.5968270077318, 0.2898790147915327],\n",
       " 763: [763.5998704062844, 0.076820000158829],\n",
       " 764: [764.6027667510053, 0.014758948620655106],\n",
       " 765: [765.6055781348612, 0.0022652756501092665],\n",
       " 766: [766.608333268315, 0.00029231087490953235],\n",
       " 767: [767.611049872755, 3.2710779144349316e-05],\n",
       " 768: [768.6137401012427, 3.2398181913962025e-06],\n",
       " 769: [769.616465431479, 2.8349908701219827e-07],\n",
       " 770: [770.6195142186359, 1.575868520568111e-08],\n",
       " 771: [771.6228197970403, 1.4096928955712096e-10]}"
      ]
     },
     "execution_count": 33,
     "metadata": {},
     "output_type": "execute_result"
    }
   ],
   "source": [
    "from molmass import Formula\n",
    "f = Formula('C42H84NO8P')\n",
    "from adduct_rules import AdductTransformer\n",
    "at = AdductTransformer()\n",
    "print(\"Mono: \",f.isotope.mass)\n",
    "if ion_mode == 'Pos':\n",
    "    phosp_mz = at.mass2ion(f.isotope.mass,'[M+H]+')\n",
    "else:\n",
    "    phosp_mz = at.mass2ion(f.isotope.mass,'[M-H]-')\n",
    "phosp_mz = 760.584\n",
    "phosp_rt = 627\n",
    "print(phosp_mz,phosp_rt)\n",
    "f.spectrum()"
   ]
  },
  {
   "cell_type": "code",
   "execution_count": 34,
   "metadata": {},
   "outputs": [],
   "source": [
    "all_phosp = {}\n",
    "for p in all_boxes:\n",
    "    l = find_boxes(all_boxes[p],phosp_mz,phosp_rt,rt_tol = 10)\n",
    "    assert len(l) == 1,print(len(l))\n",
    "    l = l[0]\n",
    "    # find the group\n",
    "    for g in all_groups[p]:\n",
    "        if l in g:\n",
    "            break\n",
    "    all_phosp[p] = (l,g)"
   ]
  },
  {
   "cell_type": "code",
   "execution_count": 35,
   "metadata": {},
   "outputs": [],
   "source": [
    "import pylab as plt\n",
    "%matplotlib inline"
   ]
  },
  {
   "cell_type": "code",
   "execution_count": 36,
   "metadata": {},
   "outputs": [],
   "source": [
    "# order files by time\n",
    "ordered_files = list(all_boxes.keys())\n",
    "ordered_files.sort(key = lambda x: int(x.split(os.sep)[-1].split('_')[0]))\n"
   ]
  },
  {
   "cell_type": "code",
   "execution_count": 38,
   "metadata": {},
   "outputs": [
    {
     "name": "stdout",
     "output_type": "stream",
     "text": [
      "4\n",
      "4\n",
      "4\n",
      "6\n",
      "5\n",
      "6\n"
     ]
    },
    {
     "data": {
      "image/png": "[encoded data removed]",
      "text/plain": [
       "<Figure size 720x216 with 1 Axes>"
      ]
     },
     "metadata": {
      "needs_background": "light"
     },
     "output_type": "display_data"
    },
    {
     "data": {
      "image/png": "[encoded data removed]",
      "text/plain": [
       "<Figure size 720x216 with 1 Axes>"
      ]
     },
     "metadata": {
      "needs_background": "light"
     },
     "output_type": "display_data"
    },
    {
     "data": {
      "image/png": "[encoded data removed]",
      "text/plain": [
       "<Figure size 720x216 with 1 Axes>"
      ]
     },
     "metadata": {
      "needs_background": "light"
     },
     "output_type": "display_data"
    },
    {
     "data": {
      "image/png": "[encoded data removed]",
      "text/plain": [
       "<Figure size 720x216 with 1 Axes>"
      ]
     },
     "metadata": {
      "needs_background": "light"
     },
     "output_type": "display_data"
    },
    {
     "data": {
      "image/png": "[encoded data removed]",
      "text/plain": [
       "<Figure size 720x216 with 1 Axes>"
      ]
     },
     "metadata": {
      "needs_background": "light"
     },
     "output_type": "display_data"
    },
    {
     "data": {
      "image/png": "[encoded data removed]",
      "text/plain": [
       "<Figure size 720x216 with 1 Axes>"
      ]
     },
     "metadata": {
      "needs_background": "light"
     },
     "output_type": "display_data"
    }
   ],
   "source": [
    "for f in ordered_files:\n",
    "    plt.figure(figsize=(10,3))\n",
    "    b,g = all_phosp[f]\n",
    "    print(len(g))\n",
    "    for box in g:\n",
    "        plt.plot([box.mz,box.mz],[0,box.height],'k',linewidth=2)\n",
    "    plt.xlim([760.4,766.5])\n",
    "    plt.title(f.split(os.sep)[-1])"
   ]
  },
  {
   "cell_type": "code",
   "execution_count": null,
   "metadata": {},
   "outputs": [],
   "source": []
  },
  {
   "cell_type": "markdown",
   "metadata": {},
   "source": [
    "Deconvolve the isotope patterns\n",
    "\n",
    "We assume that we have $N$ isotopomers observed at $T$ time-points. The normalised intensities are given by $f_{nt}$ (normlised such that $\\sum_n f_{nt} = 1$).\n",
    "\n",
    "Assume we have two theoretical isotope distributions, $x$ and $y$, that each have $N$ isotopmers, $x_n$,$y_n$ and are normalised such that $\\sum_nx_n = \\sum_n y_n = 1$\n",
    "\n",
    "The observed distribution is assumed to be a weighted combination of the two, with weights that sum to 1:\n",
    "\n",
    "$ f_{nt} = a_t x_n + (1-a_t)y_n $\n",
    "\n",
    "and we want to infer the unknown, time-dependent weight $a_t$.\n",
    "\n",
    "Re-arranging the expression...\n",
    "\n",
    "$f_{nt} - y_n = a_t(x_n - y_n) $\n",
    "\n",
    "$g_{nt} = a_t m_n$\n",
    "\n",
    "where $g_{nt} = f_{nt} - y_n$ and $m_n = x_n - y_n$.\n",
    "\n",
    "$a_t$ can be inferred using least squares as:\n",
    "\n",
    "$a_t = \\frac{\\sum_n g_{nt}m_n}{\\sum_n m_n^2} $"
   ]
  },
  {
   "cell_type": "code",
   "execution_count": null,
   "metadata": {},
   "outputs": [],
   "source": []
  },
  {
   "cell_type": "code",
   "execution_count": 85,
   "metadata": {},
   "outputs": [
    {
     "name": "stdout",
     "output_type": "stream",
     "text": [
      "[0, 8, 24, 48, 72, 96]\n"
     ]
    },
    {
     "data": {
      "text/plain": [
       "Text(0.5, 1.0, 'Data - reconstruction')"
      ]
     },
     "execution_count": 85,
     "metadata": {},
     "output_type": "execute_result"
    },
    {
     "data": {
      "image/png": "[encoded data removed]",
      "text/plain": [
       "<Figure size 432x288 with 2 Axes>"
      ]
     },
     "metadata": {
      "needs_background": "light"
     },
     "output_type": "display_data"
    },
    {
     "data": {
      "image/png": "[encoded data removed]",
      "text/plain": [
       "<Figure size 432x288 with 1 Axes>"
      ]
     },
     "metadata": {
      "needs_background": "light"
     },
     "output_type": "display_data"
    },
    {
     "data": {
      "image/png": "[encoded data removed]",
      "text/plain": [
       "<Figure size 432x288 with 2 Axes>"
      ]
     },
     "metadata": {
      "needs_background": "light"
     },
     "output_type": "display_data"
    }
   ],
   "source": [
    "import numpy as np\n",
    "phos = 'C42H84NO8P'\n",
    "heavy_p = 'C42H83DNO8P'\n",
    "# print(Formula(phos).spectrum())\n",
    "# print(Formula(heavy_p).spectrum())\n",
    "\n",
    "# will use floored masses \n",
    "floor_mz = [760,761,762,763,764,765]\n",
    "x = []\n",
    "y = []\n",
    "phos_s = Formula(phos).spectrum()\n",
    "heavy_s = Formula(heavy_p).spectrum()\n",
    "for m in floor_mz:\n",
    "    x.append(phos_s[m+1][1])\n",
    "    y.append(heavy_s.get(m+1,(0,0))[1])\n",
    "# print(x)\n",
    "# print(y)\n",
    "\n",
    "n_rows = len(ordered_files)\n",
    "n_cols = len(x)\n",
    "\n",
    "data_mat = np.zeros((n_rows,n_cols),np.double)\n",
    "for i,o in enumerate(ordered_files):\n",
    "    b,g = all_phosp[o]\n",
    "    for box in g:\n",
    "        for j,m in enumerate(floor_mz):\n",
    "            if int(box.mz) == m:\n",
    "                data_mat[i,j] = box.height\n",
    "data_mat /= data_mat.sum(axis=1)[:,None]\n",
    "plt.imshow(data_mat,aspect='auto')\n",
    "plt.colorbar()\n",
    "\n",
    "x = np.array(x)\n",
    "y = np.array(y)\n",
    "\n",
    "recon = []\n",
    "\n",
    "all_a = []\n",
    "for row in data_mat:\n",
    "    f = row - y\n",
    "    m = x-y\n",
    "    a = ((f*m).sum())/((m*m).sum())\n",
    "    all_a.append(a)\n",
    "    recon.append(a*x + (1-a)*y)\n",
    "    \n",
    "recon = np.array(recon)\n",
    "times = [int(x.split(os.sep)[-1].split('_')[0]) for x in ordered_files]\n",
    "print(times)\n",
    "plt.figure()\n",
    "plt.plot(times,all_a,'ro')\n",
    "plt.xlabel('Time (hours)')\n",
    "plt.ylabel('$a_t$')\n",
    "\n",
    "plt.figure()\n",
    "plt.imshow(data_mat-recon,aspect='auto')\n",
    "plt.colorbar()\n",
    "plt.title('Data - reconstruction')"
   ]
  },
  {
   "cell_type": "code",
   "execution_count": 40,
   "metadata": {},
   "outputs": [
    {
     "data": {
      "text/plain": [
       "{762: [762.599732412619, 0.6160190274810488],\n",
       " 763: [763.6031030434093, 0.2898415043763756],\n",
       " 764: [764.6061457489421, 0.07679549986831057],\n",
       " 765: [765.6090414737553, 0.014751813596733875],\n",
       " 766: [766.6118522851225, 0.0022638395330919483],\n",
       " 767: [767.6146068772607, 0.0002920841230373762],\n",
       " 768: [768.6173229623139, 3.268094777919464e-05],\n",
       " 769: [769.6200126860548, 3.236432072089884e-06],\n",
       " 770: [770.6227375335814, 2.831681532426452e-07],\n",
       " 771: [771.6257860585823, 1.573936287709506e-08],\n",
       " 772: [772.6290915923876, 1.4079510976923437e-10]}"
      ]
     },
     "execution_count": 40,
     "metadata": {},
     "output_type": "execute_result"
    }
   ],
   "source": [
    "\n",
    "Formula(heavy_p).spectrum()"
   ]
  },
  {
   "cell_type": "code",
   "execution_count": null,
   "metadata": {},
   "outputs": [],
   "source": []
  }
 ],
 "metadata": {
  "kernelspec": {
   "display_name": "Python 3",
   "language": "python",
   "name": "python3"
  },
  "language_info": {
   "codemirror_mode": {
    "name": "ipython",
    "version": 3
   },
   "file_extension": ".py",
   "mimetype": "text/x-python",
   "name": "python",
   "nbconvert_exporter": "python",
   "pygments_lexer": "ipython3",
   "version": "3.6.9"
  }
 },
 "nbformat": 4,
 "nbformat_minor": 4
}
