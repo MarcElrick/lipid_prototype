{
 "cells": [
  {
   "cell_type": "code",
   "execution_count": 14,
   "metadata": {},
   "outputs": [],
   "source": [
    "import os\n",
    "import xlrd\n",
    "import pprint\n",
    "import sys\n",
    "import copy\n",
    "pp = pprint.PrettyPrinter()"
   ]
  },
  {
   "cell_type": "code",
   "execution_count": 2,
   "metadata": {},
   "outputs": [],
   "source": [
    "home_folder = '/Users/simon'"
   ]
  },
  {
   "cell_type": "code",
   "execution_count": 4,
   "metadata": {},
   "outputs": [],
   "source": [
    "sys.path.append(os.path.join(home_folder,'git/lipid_prototype'))\n",
    "sys.path.append(os.path.join(home_folder,'git/mass-spec-utils'))\n",
    "sys.path.append(os.path.join(home_folder,'git/pymzm'))"
   ]
  },
  {
   "cell_type": "code",
   "execution_count": 5,
   "metadata": {},
   "outputs": [],
   "source": [
    "excel_folder = os.path.join(home_folder,'git/lipid_prototype/excel_input_files')\n",
    "data_path = os.path.join(home_folder,'data/lipid_files/lipid_files/Condition_2/Pos')"
   ]
  },
  {
   "cell_type": "code",
   "execution_count": 6,
   "metadata": {},
   "outputs": [],
   "source": [
    "PERMITTED_HEADS = {'name','formula','ion',\n",
    "                   'ion_mz (optional)',\n",
    "                   'mz_tolerance_ppm (optional)',\n",
    "                   'ion rt (seconds)',\n",
    "                   'ion rt tol (seconds)',\n",
    "                   'files to exclude'}\n",
    "\n",
    "DEFAULT_PARAMS = {'mz_tolerance': 0.01,\n",
    "                  'mz_tolerance_units': 'abs', # or ppm\n",
    "                  'scan_delta': 2,\n",
    "                  'max_iso_n': 5}"
   ]
  },
  {
   "cell_type": "code",
   "execution_count": 18,
   "metadata": {},
   "outputs": [],
   "source": [
    "def read_heads(sheet_object,permitted_vals = PERMITTED_HEADS):\n",
    "    col_pos = 0\n",
    "    row_pos = 0\n",
    "    head_dict = {}\n",
    "    for col_pos in range(sheet_object.ncols):\n",
    "        heads_val = sheet_object.cell_value(row_pos,col_pos)\n",
    "        if heads_val in permitted_vals:\n",
    "            head_dict[sheet_object.cell_value(row_pos,col_pos)] = col_pos\n",
    "        else:\n",
    "            print(\"Warning: head {} not permitted\".format(heads_val))\n",
    "    return head_dict\n",
    "\n",
    "def load_lipids(sheet_object,permitted_vals = PERMITTED_HEADS):\n",
    "    head_dict = read_heads(sheet_object,permitted_vals = permitted_vals)\n",
    "    lipids = {}\n",
    "    for row_pos in range(sheet_object.nrows):\n",
    "        if row_pos == 0:\n",
    "            continue # skip the headings row\n",
    "        lipid_name = sheet_object.cell_value(row_pos,head_dict['name'])\n",
    "        lipids[lipid_name] = {}\n",
    "        for key,col in head_dict.items():\n",
    "            data_val = sheet_object.cell_value(row_pos,col)\n",
    "            lipids[lipid_name][key] = data_val\n",
    "        if not 'n_iso' in lipids[lipid_name]:\n",
    "            lipids[lipid_name]['n_iso'] = 5\n",
    "    return lipids\n",
    "        \n",
    "    \n",
    "def load_files(sheet_object):\n",
    "    assert sheet_object.cell_value(0,0) == 'filename', print(\"First column in files sheet must be headed filename\")\n",
    "    assert sheet_object.cell_value(0,1) == 'timepoint', print(\"Second column in files sheet must be headed timepoint\")\n",
    "    time_points = []\n",
    "    for row_pos in range(1,sheet_object.nrows):\n",
    "        file_name = sheet_object.cell_value(row_pos,0)\n",
    "        timepoint = sheet_object.cell_value(row_pos,1)\n",
    "        time_points.append((file_name,float(timepoint)))\n",
    "    time_points.sort(key = lambda x: x[1])\n",
    "    return time_points\n",
    "\n",
    "def load_data(workbook_object,permitted_vals = PERMITTED_HEADS):\n",
    "    lipid_sheet = workbook_object.sheet_by_name('lipids')\n",
    "    lipids = load_lipids(lipid_sheet,permitted_vals = permitted_vals)\n",
    "    files_sheet = workbook_object.sheet_by_name('files')\n",
    "    time_points = load_files(files_sheet)\n",
    "    \n",
    "    parameters = copy.deepcopy(DEFAULT_PARAMS)\n",
    "    try:\n",
    "        parameter_sheet= workbook_object.sheet_by_name('parameters')\n",
    "        \n",
    "    except xlrd.biffh.XLRDError as e:\n",
    "        # no sheet called parameters, so use defaults\n",
    "        pass\n",
    "    return lipids,time_points"
   ]
  },
  {
   "cell_type": "code",
   "execution_count": 20,
   "metadata": {},
   "outputs": [
    {
     "name": "stdout",
     "output_type": "stream",
     "text": [
      "Warning: head Name not permitted\n",
      "Warning: head Formula not permitted\n"
     ]
    },
    {
     "ename": "KeyError",
     "evalue": "'name'",
     "output_type": "error",
     "traceback": [
      "\u001b[0;31m---------------------------------------------------------------------------\u001b[0m",
      "\u001b[0;31mKeyError\u001b[0m                                  Traceback (most recent call last)",
      "\u001b[0;32m<ipython-input-20-c389df9a88ca>\u001b[0m in \u001b[0;36m<module>\u001b[0;34m\u001b[0m\n\u001b[1;32m      2\u001b[0m \u001b[0mwb\u001b[0m \u001b[0;34m=\u001b[0m \u001b[0mxlrd\u001b[0m\u001b[0;34m.\u001b[0m\u001b[0mopen_workbook\u001b[0m\u001b[0;34m(\u001b[0m\u001b[0mexcel_file\u001b[0m\u001b[0;34m)\u001b[0m\u001b[0;34m\u001b[0m\u001b[0;34m\u001b[0m\u001b[0m\n\u001b[1;32m      3\u001b[0m \u001b[0;34m\u001b[0m\u001b[0m\n\u001b[0;32m----> 4\u001b[0;31m \u001b[0mlipids\u001b[0m\u001b[0;34m,\u001b[0m\u001b[0mtime_points\u001b[0m \u001b[0;34m=\u001b[0m \u001b[0mload_data\u001b[0m\u001b[0;34m(\u001b[0m\u001b[0mwb\u001b[0m\u001b[0;34m)\u001b[0m\u001b[0;34m\u001b[0m\u001b[0;34m\u001b[0m\u001b[0m\n\u001b[0m\u001b[1;32m      5\u001b[0m \u001b[0mpp\u001b[0m\u001b[0;34m.\u001b[0m\u001b[0mpprint\u001b[0m\u001b[0;34m(\u001b[0m\u001b[0mlipids\u001b[0m\u001b[0;34m)\u001b[0m\u001b[0;34m\u001b[0m\u001b[0;34m\u001b[0m\u001b[0m\n\u001b[1;32m      6\u001b[0m \u001b[0mpp\u001b[0m\u001b[0;34m.\u001b[0m\u001b[0mpprint\u001b[0m\u001b[0;34m(\u001b[0m\u001b[0mtime_points\u001b[0m\u001b[0;34m)\u001b[0m\u001b[0;34m\u001b[0m\u001b[0;34m\u001b[0m\u001b[0m\n",
      "\u001b[0;32m<ipython-input-18-0323c449ae3f>\u001b[0m in \u001b[0;36mload_data\u001b[0;34m(workbook_object, permitted_vals)\u001b[0m\n\u001b[1;32m     40\u001b[0m \u001b[0;32mdef\u001b[0m \u001b[0mload_data\u001b[0m\u001b[0;34m(\u001b[0m\u001b[0mworkbook_object\u001b[0m\u001b[0;34m,\u001b[0m\u001b[0mpermitted_vals\u001b[0m \u001b[0;34m=\u001b[0m \u001b[0mPERMITTED_HEADS\u001b[0m\u001b[0;34m)\u001b[0m\u001b[0;34m:\u001b[0m\u001b[0;34m\u001b[0m\u001b[0;34m\u001b[0m\u001b[0m\n\u001b[1;32m     41\u001b[0m     \u001b[0mlipid_sheet\u001b[0m \u001b[0;34m=\u001b[0m \u001b[0mworkbook_object\u001b[0m\u001b[0;34m.\u001b[0m\u001b[0msheet_by_name\u001b[0m\u001b[0;34m(\u001b[0m\u001b[0;34m'lipids'\u001b[0m\u001b[0;34m)\u001b[0m\u001b[0;34m\u001b[0m\u001b[0;34m\u001b[0m\u001b[0m\n\u001b[0;32m---> 42\u001b[0;31m     \u001b[0mlipids\u001b[0m \u001b[0;34m=\u001b[0m \u001b[0mload_lipids\u001b[0m\u001b[0;34m(\u001b[0m\u001b[0mlipid_sheet\u001b[0m\u001b[0;34m,\u001b[0m\u001b[0mpermitted_vals\u001b[0m \u001b[0;34m=\u001b[0m \u001b[0mpermitted_vals\u001b[0m\u001b[0;34m)\u001b[0m\u001b[0;34m\u001b[0m\u001b[0;34m\u001b[0m\u001b[0m\n\u001b[0m\u001b[1;32m     43\u001b[0m     \u001b[0mfiles_sheet\u001b[0m \u001b[0;34m=\u001b[0m \u001b[0mworkbook_object\u001b[0m\u001b[0;34m.\u001b[0m\u001b[0msheet_by_name\u001b[0m\u001b[0;34m(\u001b[0m\u001b[0;34m'files'\u001b[0m\u001b[0;34m)\u001b[0m\u001b[0;34m\u001b[0m\u001b[0;34m\u001b[0m\u001b[0m\n\u001b[1;32m     44\u001b[0m     \u001b[0mtime_points\u001b[0m \u001b[0;34m=\u001b[0m \u001b[0mload_files\u001b[0m\u001b[0;34m(\u001b[0m\u001b[0mfiles_sheet\u001b[0m\u001b[0;34m)\u001b[0m\u001b[0;34m\u001b[0m\u001b[0;34m\u001b[0m\u001b[0m\n",
      "\u001b[0;32m<ipython-input-18-0323c449ae3f>\u001b[0m in \u001b[0;36mload_lipids\u001b[0;34m(sheet_object, permitted_vals)\u001b[0m\n\u001b[1;32m     17\u001b[0m         \u001b[0;32mif\u001b[0m \u001b[0mrow_pos\u001b[0m \u001b[0;34m==\u001b[0m \u001b[0;36m0\u001b[0m\u001b[0;34m:\u001b[0m\u001b[0;34m\u001b[0m\u001b[0;34m\u001b[0m\u001b[0m\n\u001b[1;32m     18\u001b[0m             \u001b[0;32mcontinue\u001b[0m \u001b[0;31m# skip the headings row\u001b[0m\u001b[0;34m\u001b[0m\u001b[0;34m\u001b[0m\u001b[0m\n\u001b[0;32m---> 19\u001b[0;31m         \u001b[0mlipid_name\u001b[0m \u001b[0;34m=\u001b[0m \u001b[0msheet_object\u001b[0m\u001b[0;34m.\u001b[0m\u001b[0mcell_value\u001b[0m\u001b[0;34m(\u001b[0m\u001b[0mrow_pos\u001b[0m\u001b[0;34m,\u001b[0m\u001b[0mhead_dict\u001b[0m\u001b[0;34m[\u001b[0m\u001b[0;34m'name'\u001b[0m\u001b[0;34m]\u001b[0m\u001b[0;34m)\u001b[0m\u001b[0;34m\u001b[0m\u001b[0;34m\u001b[0m\u001b[0m\n\u001b[0m\u001b[1;32m     20\u001b[0m         \u001b[0mlipids\u001b[0m\u001b[0;34m[\u001b[0m\u001b[0mlipid_name\u001b[0m\u001b[0;34m]\u001b[0m \u001b[0;34m=\u001b[0m \u001b[0;34m{\u001b[0m\u001b[0;34m}\u001b[0m\u001b[0;34m\u001b[0m\u001b[0;34m\u001b[0m\u001b[0m\n\u001b[1;32m     21\u001b[0m         \u001b[0;32mfor\u001b[0m \u001b[0mkey\u001b[0m\u001b[0;34m,\u001b[0m\u001b[0mcol\u001b[0m \u001b[0;32min\u001b[0m \u001b[0mhead_dict\u001b[0m\u001b[0;34m.\u001b[0m\u001b[0mitems\u001b[0m\u001b[0;34m(\u001b[0m\u001b[0;34m)\u001b[0m\u001b[0;34m:\u001b[0m\u001b[0;34m\u001b[0m\u001b[0;34m\u001b[0m\u001b[0m\n",
      "\u001b[0;31mKeyError\u001b[0m: 'name'"
     ]
    }
   ],
   "source": [
    "excel_file = os.path.join(excel_folder,'Test_input_Condition1Neg.xlsx')\n",
    "wb = xlrd.open_workbook(excel_file) \n",
    "\n",
    "lipids,time_points = load_data(wb)\n",
    "pp.pprint(lipids)\n",
    "pp.pprint(time_points)"
   ]
  },
  {
   "cell_type": "code",
   "execution_count": 100,
   "metadata": {},
   "outputs": [
    {
     "name": "stdout",
     "output_type": "stream",
     "text": [
      "Loaded 1968 scans\n",
      "Loaded 1968 scans\n",
      "Loaded 1967 scans\n",
      "Loaded 1967 scans\n",
      "Loaded 1968 scans\n",
      "Loaded 1967 scans\n",
      "Loaded 1968 scans\n"
     ]
    }
   ],
   "source": [
    "mzml_file_objs = {}\n",
    "\n",
    "from ms2_matching import MZMLFile\n",
    "for filename,time in time_points:\n",
    "    if not '.mzML' in filename:\n",
    "        load_filename = filename + '.mzML'\n",
    "    else:\n",
    "        load_filename = filename\n",
    "    full_file = os.path.join(data_path,load_filename)\n",
    "    mzml_file_objs[filename] = MZMLFile(full_file)"
   ]
  },
  {
   "cell_type": "code",
   "execution_count": 103,
   "metadata": {},
   "outputs": [
    {
     "name": "stdout",
     "output_type": "stream",
     "text": [
      "The autoreload extension is already loaded. To reload it, use:\n",
      "  %reload_ext autoreload\n",
      "Lyso PC 20:1 [M+H]+\n",
      "Lyso PC 20:1 3\n",
      "Lyso PC 20:1 0 4\n",
      "Lyso PC 20:1 0 5\n",
      "Lyso PC 20:1 1 4\n",
      "Lyso PC 20:1 1 5\n",
      "Lyso PC 20:1 2 4\n",
      "Lyso PC 20:1 2 5\n",
      "Lyso PC 20:1 3 4\n",
      "Lyso PC 20:1 3 5\n",
      "Lyso PC 20:1 4 4\n",
      "Lyso PC 20:1 4 5\n",
      "Lyso PC 20:1 5 4\n",
      "Lyso PC 20:1 5 5\n",
      "\tLyso PC 20:1, ignoring 120_d20_pos_2\n",
      "LYSO pe18:1 [M+H]+\n",
      "\tLYSO pe18:1, ignoring 120_d20_pos_2\n",
      "Lyso pe 20:4 [M+H]+\n",
      "Lyso pe 20:4 1\n",
      "Lyso pe 20:4 0 2\n",
      "Lyso pe 20:4 0 3\n",
      "Lyso pe 20:4 0 4\n",
      "Lyso pe 20:4 0 5\n",
      "Lyso pe 20:4 1 2\n",
      "Lyso pe 20:4 1 3\n",
      "Lyso pe 20:4 1 4\n",
      "Lyso pe 20:4 1 5\n",
      "Lyso pe 20:4 2 2\n",
      "Lyso pe 20:4 2 3\n",
      "Lyso pe 20:4 2 4\n",
      "Lyso pe 20:4 2 5\n",
      "Lyso pe 20:4 3 2\n",
      "Lyso pe 20:4 3 3\n",
      "Lyso pe 20:4 3 4\n",
      "Lyso pe 20:4 3 5\n",
      "Lyso pe 20:4 4 2\n",
      "Lyso pe 20:4 4 3\n",
      "Lyso pe 20:4 4 4\n",
      "Lyso pe 20:4 4 5\n",
      "Lyso pe 20:4 5 2\n",
      "Lyso pe 20:4 5 3\n",
      "Lyso pe 20:4 5 4\n",
      "Lyso pe 20:4 5 5\n",
      "\tLyso pe 20:4, ignoring 120_d20_pos_2\n",
      "38.1 pc [M+H]+\n",
      "\t38.1 pc, ignoring 120_d20_pos_2\n",
      "38.2 pc [M+H]+\n",
      "\t38.2 pc, ignoring 120_d20_pos_2\n",
      "40.6 pc [M+H]+\n",
      "\t40.6 pc, ignoring 120_d20_pos_2\n",
      "PC(38:4p) [M+H]+\n",
      "\tPC(38:4p), ignoring 120_d20_pos_2\n"
     ]
    }
   ],
   "source": [
    "%load_ext autoreload\n",
    "%autoreload 2\n",
    "from lipid_kinetics import compute_lipid_kinetics,create_plot\n",
    "output_dict = {}\n",
    "for lipid in lipids:\n",
    "#     if lipid in output_dict:\n",
    "#         continue\n",
    "    print(lipid,lipids[lipid]['ion'])\n",
    "    rt_mean = lipids[lipid]['ion rt (seconds)']\n",
    "    rt_tol = lipids[lipid]['ion rt tol (seconds)']\n",
    "    lipids[lipid]['rt_range'] = [rt_mean - rt_tol,rt_mean+rt_tol]\n",
    "    lipids[lipid]['adduct_type'] = lipids[lipid]['ion']\n",
    "    output_dict[lipid] = compute_lipid_kinetics(lipid,lipids[lipid],time_points,mzml_file_objs)\n",
    "    create_plot(lipid,output_dict[lipid])\n",
    "\n",
    "\n"
   ]
  },
  {
   "cell_type": "code",
   "execution_count": 104,
   "metadata": {},
   "outputs": [
    {
     "name": "stdout",
     "output_type": "stream",
     "text": [
      "Writing:  temp_0.png\n",
      "Writing:  temp_1.png\n",
      "Writing:  temp_2.png\n",
      "Writing:  temp_3.png\n",
      "Writing:  temp_4.png\n",
      "Writing:  temp_5.png\n",
      "Writing:  temp_6.png\n",
      "Writing:  temp_7.png\n",
      "Writing:  temp_8.png\n",
      "Writing:  temp_9.png\n",
      "Writing:  temp_10.png\n",
      "Writing:  temp_11.png\n",
      "Writing:  temp_12.png\n",
      "Writing:  temp_13.png\n",
      "Writing:  temp_14.png\n",
      "Writing:  temp_15.png\n",
      "Writing:  temp_16.png\n",
      "Writing:  temp_17.png\n",
      "Writing:  temp_18.png\n",
      "Writing:  temp_19.png\n",
      "Writing:  temp_20.png\n",
      "Writing:  temp_21.png\n",
      "Writing:  temp_22.png\n",
      "Writing:  temp_23.png\n",
      "Writing:  temp_24.png\n",
      "Writing:  temp_25.png\n",
      "Writing:  temp_26.png\n",
      "Writing:  temp_27.png\n",
      "Writing:  temp_28.png\n",
      "Writing:  temp_29.png\n",
      "Writing:  temp_30.png\n",
      "Writing:  temp_31.png\n"
     ]
    }
   ],
   "source": [
    "from lipid_kinetics import create_xlsx_output\n",
    "xlsx_output_name = 'condition_2_pos.xlsx'\n",
    "create_xlsx_output(output_dict,output_filename = xlsx_output_name)"
   ]
  },
  {
   "cell_type": "code",
   "execution_count": null,
   "metadata": {},
   "outputs": [],
   "source": []
  }
 ],
 "metadata": {
  "kernelspec": {
   "display_name": "Python 3",
   "language": "python",
   "name": "python3"
  },
  "language_info": {
   "codemirror_mode": {
    "name": "ipython",
    "version": 3
   },
   "file_extension": ".py",
   "mimetype": "text/x-python",
   "name": "python",
   "nbconvert_exporter": "python",
   "pygments_lexer": "ipython3",
   "version": "3.7.5"
  }
 },
 "nbformat": 4,
 "nbformat_minor": 4
}
