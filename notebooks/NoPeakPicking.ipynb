{
 "cells": [
  {
   "cell_type": "code",
   "execution_count": 1,
   "metadata": {},
   "outputs": [],
   "source": [
    "import sys\n",
    "import os\n",
    "%load_ext autoreload\n",
    "%autoreload 2\n",
    "import pylab as plt\n",
    "%matplotlib inline"
   ]
  },
  {
   "cell_type": "code",
   "execution_count": 2,
   "metadata": {},
   "outputs": [],
   "source": [
    "mzml_folder = '/Users/simon/TempStuff/lipid_files/centroid/'\n",
    "mzml_file = os.path.join(mzml_folder,'8_pp_d20_pos_1.mzML')"
   ]
  },
  {
   "cell_type": "code",
   "execution_count": 3,
   "metadata": {},
   "outputs": [
    {
     "name": "stdout",
     "output_type": "stream",
     "text": [
      "19546\n"
     ]
    }
   ],
   "source": [
    "sys.path.append('/Users/simon/git/pymzm')\n",
    "sys.path.append('/Users/simon/git/mass-spec-utils')\n",
    "from Roi import make_roi\n",
    "mz_units = 'ppm'\n",
    "mz_tol = 10\n",
    "min_length = 5\n",
    "min_intensity = 1e3\n",
    "max_gap_run = 1\n",
    "good,junk = make_roi(mzml_file,\n",
    "                     mz_tol = mz_tol,\n",
    "                     mz_units = mz_units,\n",
    "                     min_length = min_length,\n",
    "                     min_intensity = min_intensity,\n",
    "                     max_gap_run = max_gap_run)\n",
    "print(len(good))"
   ]
  },
  {
   "cell_type": "code",
   "execution_count": 4,
   "metadata": {},
   "outputs": [],
   "source": [
    "good.sort()"
   ]
  },
  {
   "cell_type": "code",
   "execution_count": 37,
   "metadata": {},
   "outputs": [
    {
     "name": "stdout",
     "output_type": "stream",
     "text": [
      "PC 34:0 ('C42H84NO8P', 'C42H83DNO8P', 762.5997, 672.0, '[M+H]+')\n",
      "\t 762.6007321188208 762.5990219011802 670.2 3\n",
      "\t 762.6007321188208 762.5998750076055 463.0902 1\n",
      "\t 762.6007321188208 762.5994964617183 540.6677999999999 1\n",
      "\t 762.6007321188208 762.6068163438197 899.496 0\n",
      "\t 762.6007321188208 762.5998091965097 488.6742 1\n",
      "\t 762.6007321188208 762.5998067301695 473.8188 0\n",
      "\t 762.6007321188208 762.6001461911122 523.3362 0\n",
      "\t 762.6007321188208 762.5996679546116 510.13079999999997 0\n"
     ]
    }
   ],
   "source": [
    "from molmass import Formula\n",
    "from Roi import roi_correlation\n",
    "from adduct_rules import AdductTransformer\n",
    "at = AdductTransformer()\n",
    "ion_mode = 'Pos'\n",
    "lipids = {'PC 34:1':('C42H82NO8P','C42H81DNO8P',760.5836,10.47*60,'[M+H]+'),\n",
    "          'PC 34:2':('C42H80NO8P','C42H79DNO8P',758.5677,9.78*60.0,'[M+H]+'),\n",
    "          'PC 34:0':('C42H84NO8P','C42H83DNO8P',762.5997,11.2*60.0,'[M+H]+'),\n",
    "          'PC 34:0p':('C42H84NO7P','C42H83DNO7P',746.8044,11.03*60.0,'[M+H]+'),\n",
    "          'PC 38:5p':('C43H76NO7P','C43H75DNO7P',750.5421,10.63*60.0,'[M+H]+'),\n",
    "          'PC 38:4p':('C43H78NO7P','C43H77DNO7P',752.5577,11.3*60.0,'[M+H]+'),\n",
    "         }\n",
    "for lipid,dets in lipids.items():\n",
    "    if not lipid == 'PC 34:0':\n",
    "        continue\n",
    "    print(lipid,dets)\n",
    "    f = Formula(dets[0])\n",
    "#     print(\"Mono: \",f.isotope.mass)\n",
    "    if ion_mode == 'Pos':\n",
    "        mz = at.mass2ion(f.isotope.mass,dets[4])\n",
    "    rt = dets[3]\n",
    "#     print(mz,rt)\n",
    "    ppm = 10\n",
    "    tol = ppm*mz/1e6\n",
    "    candidate_rois = list(filter(lambda x: x.get_mean_mz() >= mz - tol and x.get_mean_mz() <= mz + tol,good))\n",
    "    candidate_rois.sort(key = lambda x: x.get_max_intensity(),reverse = True)\n",
    "    \n",
    "    # for each candidate, find any that correlate well and have isotopic mz/shift (i.e multiple of proton)\n",
    "    correlators = {}\n",
    "    max_iso_num = 10\n",
    "    PROTON_MASS = 1.00727645199076\n",
    "    thresh = 0.6\n",
    "    for roi in candidate_rois:\n",
    "        correlators[roi] = []\n",
    "        for g in good:\n",
    "            if g == roi:\n",
    "                continue\n",
    "            if g.get_mean_mz() < roi.get_mean_mz():\n",
    "                continue\n",
    "            found = False\n",
    "            for i in range(1,max_iso_num+1):\n",
    "                cand_mz = roi.get_mean_mz() + i*PROTON_MASS\n",
    "                tol = 20*cand_mz/1e6\n",
    "                if g.get_mean_mz() >= cand_mz - tol and g.get_mean_mz() <= cand_mz + tol:\n",
    "                    found = True\n",
    "                    break\n",
    "            if not found:\n",
    "                continue\n",
    "            corr = roi_correlation(roi,g)\n",
    "            if corr >= thresh:\n",
    "                correlators[roi].append(g)\n",
    "    sizes = []\n",
    "    for roi in candidate_rois:\n",
    "        print('\\t',mz,roi.get_mean_mz(),roi.get_apex_rt(),len(correlators[roi]))\n",
    "    "
   ]
  },
  {
   "cell_type": "code",
   "execution_count": 38,
   "metadata": {},
   "outputs": [
    {
     "data": {
      "image/png": "[encoded data removed]",
      "text/plain": [
       "<Figure size 432x288 with 1 Axes>"
      ]
     },
     "metadata": {
      "needs_background": "light"
     },
     "output_type": "display_data"
    }
   ],
   "source": [
    "roi = candidate_rois[0]\n",
    "plt.figure()\n",
    "plt.plot([roi.get_mean_mz(),roi.get_mean_mz()],[0,roi.get_max_intensity()])\n",
    "for g in correlators[roi]:\n",
    "    plt.plot([g.get_mean_mz(),g.get_mean_mz()],[0,g.get_max_intensity()])"
   ]
  },
  {
   "cell_type": "code",
   "execution_count": 28,
   "metadata": {},
   "outputs": [
    {
     "name": "stdout",
     "output_type": "stream",
     "text": [
      "ROI with data points=43 mz (747.6091-747.6090) rt (650.6760-684.9360)\n",
      "ROI with data points=34 mz (748.6110-748.6110) rt (653.9340-680.8320)\n",
      "ROI with data points=22 mz (749.6116-749.6150) rt (655.5660-673.4700)\n",
      "ROI with data points=8 mz (750.6280-750.6281) rt (657.1980-662.8800)\n"
     ]
    }
   ],
   "source": [
    "for g in correlators[roi]:\n",
    "    print(g)"
   ]
  },
  {
   "cell_type": "code",
   "execution_count": 29,
   "metadata": {},
   "outputs": [
    {
     "name": "stdout",
     "output_type": "stream",
     "text": [
      "ROI with data points=12 mz (748.5113-748.5111) rt (563.7408-575.1342)\n",
      "ROI with data points=21 mz (748.5119-748.5120) rt (539.8422-557.1738)\n",
      "ROI with data points=12 mz (748.5190-748.5189) rt (523.3362-532.4142)\n",
      "ROI with data points=15 mz (748.5250-748.5286) rt (615.0000-626.3580)\n",
      "ROI with data points=14 mz (748.5363-748.5363) rt (343.4232-354.9768)\n",
      "ROI with data points=5 mz (748.5396-748.5431) rt (1305.5400-1310.4960)\n",
      "ROI with data points=15 mz (748.5399-748.5399) rt (198.1770-212.2068)\n",
      "ROI with data points=62 mz (748.5501-748.5501) rt (369.8328-421.0002)\n",
      "ROI with data points=67 mz (748.5499-748.5466) rt (437.5056-497.7516)\n",
      "ROI with data points=9 mz (748.5497-748.5499) rt (511.7814-519.2100)\n",
      "ROI with data points=14 mz (748.5501-748.5466) rt (423.4758-434.2044)\n",
      "ROI with data points=5 mz (748.5501-748.5501) rt (359.1036-362.4054)\n",
      "ROI with data points=10 mz (748.5765-748.5736) rt (685.7640-694.0140)\n",
      "ROI with data points=32 mz (748.5767-748.5766) rt (588.9492-614.1900)\n",
      "ROI with data points=31 mz (748.5836-748.5835) rt (627.1620-651.4920)\n",
      "ROI with data points=13 mz (748.5913-748.5913) rt (873.0900-883.8180)\n",
      "ROI with data points=34 mz (748.6110-748.6110) rt (653.9340-680.8320)\n"
     ]
    },
    {
     "data": {
      "text/plain": [
       "0.9976721436340907"
      ]
     },
     "execution_count": 29,
     "metadata": {},
     "output_type": "execute_result"
    }
   ],
   "source": [
    "gg = list(filter(lambda x: x.get_mean_mz() > 748.5 and x.get_mean_mz() < 748.62,good))\n",
    "for g in gg:\n",
    "    print(g)\n",
    "g = gg[-1]\n",
    "roi_correlation(roi,g)"
   ]
  },
  {
   "cell_type": "code",
   "execution_count": null,
   "metadata": {},
   "outputs": [],
   "source": []
  }
 ],
 "metadata": {
  "kernelspec": {
   "display_name": "Python 3",
   "language": "python",
   "name": "python3"
  },
  "language_info": {
   "codemirror_mode": {
    "name": "ipython",
    "version": 3
   },
   "file_extension": ".py",
   "mimetype": "text/x-python",
   "name": "python",
   "nbconvert_exporter": "python",
   "pygments_lexer": "ipython3",
   "version": "3.7.5"
  }
 },
 "nbformat": 4,
 "nbformat_minor": 4
}
