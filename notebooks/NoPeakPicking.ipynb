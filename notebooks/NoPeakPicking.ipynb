{
 "cells": [
  {
   "cell_type": "code",
   "execution_count": 158,
   "metadata": {},
   "outputs": [
    {
     "name": "stdout",
     "output_type": "stream",
     "text": [
      "The autoreload extension is already loaded. To reload it, use:\n",
      "  %reload_ext autoreload\n"
     ]
    }
   ],
   "source": [
    "import sys\n",
    "import os\n",
    "import glob\n",
    "%load_ext autoreload\n",
    "%autoreload 2\n",
    "import pylab as plt\n",
    "%matplotlib inline"
   ]
  },
  {
   "cell_type": "code",
   "execution_count": 159,
   "metadata": {},
   "outputs": [],
   "source": [
    "sys.path.append('/home/simon/git/pymzm')\n",
    "sys.path.append('/home/simon/git/mass-spec-utils')"
   ]
  },
  {
   "cell_type": "code",
   "execution_count": 160,
   "metadata": {},
   "outputs": [],
   "source": [
    "mzml_folder = '/home/simon/data/lipid_files/lipid_files/Condition_1/Pos/centroid/'\n",
    "mzml_files = glob.glob(os.path.join(mzml_folder,'*.mzML'))\n",
    "time_map = {0 : '/home/simon/data/lipid_files/lipid_files/Condition_1/Pos/centroid/0_pp_d20_pos_1.mzML',\n",
    "            8 : '/home/simon/data/lipid_files/lipid_files/Condition_1/Pos/centroid/8_pp_d20_pos_1.mzML',\n",
    "            48: '/home/simon/data/lipid_files/lipid_files/Condition_1/Pos/centroid/48_pp_d20_pos_1.mzML',\n",
    "            72: '/home/simon/data/lipid_files/lipid_files/Condition_1/Pos/centroid/72_pp_d20_pos_1.mzML',\n",
    "            96: '/home/simon/data/lipid_files/lipid_files/Condition_1/Pos/centroid/96_pp_d20_.mzML'}"
   ]
  },
  {
   "cell_type": "code",
   "execution_count": 177,
   "metadata": {},
   "outputs": [
    {
     "name": "stdout",
     "output_type": "stream",
     "text": [
      "/home/simon/data/lipid_files/lipid_files/Condition_1/Pos/centroid/0_pp_d20_pos_1.mzML\n",
      "/home/simon/data/lipid_files/lipid_files/Condition_1/Pos/centroid/8_pp_d20_pos_1.mzML\n",
      "/home/simon/data/lipid_files/lipid_files/Condition_1/Pos/centroid/48_pp_d20_pos_1.mzML\n",
      "/home/simon/data/lipid_files/lipid_files/Condition_1/Pos/centroid/72_pp_d20_pos_1.mzML\n",
      "/home/simon/data/lipid_files/lipid_files/Condition_1/Pos/centroid/96_pp_d20_.mzML\n"
     ]
    }
   ],
   "source": [
    "from Roi import make_roi\n",
    "mz_units = 'ppm'\n",
    "mz_tol = 10\n",
    "min_length = 5\n",
    "min_intensity = 100e3\n",
    "max_gap_run = 1\n",
    "all_rois = {}\n",
    "for time,mzml_file in time_map.items():\n",
    "    print(mzml_file)\n",
    "    all_rois[time],junk = make_roi(mzml_file,\n",
    "                         mz_tol = mz_tol,\n",
    "                         mz_units = mz_units,\n",
    "                         min_length = min_length,\n",
    "                         min_intensity = min_intensity,\n",
    "                         max_gap_run = max_gap_run)\n"
   ]
  },
  {
   "cell_type": "code",
   "execution_count": 178,
   "metadata": {},
   "outputs": [],
   "source": [
    "from molmass import Formula\n",
    "from Roi import roi_correlation\n",
    "from adduct_rules import AdductTransformer\n",
    "at = AdductTransformer()\n",
    "ion_mode = 'Pos'\n",
    "lipids = {'PC 34:1':('C42H82NO8P','C42H81DNO8P',760.5836,10.47*60,'[M+H]+'),\n",
    "          'PC 34:2':('C42H80NO8P','C42H79DNO8P',758.5677,9.78*60.0,'[M+H]+'),\n",
    "          'PC 34:0':('C42H84NO8P','C42H83DNO8P',762.5997,11.2*60.0,'[M+H]+'),\n",
    "          'PC 34:0p':('C42H84NO7P','C42H83DNO7P',746.8044,11.03*60.0,'[M+H]+'),\n",
    "          'PC 38:5p':('C43H76NO7P','C43H75DNO7P',750.5421,10.63*60.0,'[M+H]+'),\n",
    "          'PC 38:4p':('C43H78NO7P','C43H77DNO7P',752.5577,11.3*60.0,'[M+H]+'),\n",
    "         }"
   ]
  },
  {
   "cell_type": "code",
   "execution_count": 187,
   "metadata": {},
   "outputs": [],
   "source": [
    "def get_correlators(roi,others,ppm = 20,max_iso_num = 6,thresh = 0.5):\n",
    "    correlators = []\n",
    "    PROTON_MASS = 1.00727645199076\n",
    "    from Roi import roi_correlation\n",
    "    for g in others:\n",
    "        if g == roi:\n",
    "            continue\n",
    "        if g.get_mean_mz() < roi.get_mean_mz():\n",
    "            continue\n",
    "        found = False\n",
    "        for i in range(1,max_iso_num+1):\n",
    "            cand_mz = roi.get_mean_mz() + i*PROTON_MASS\n",
    "            tol = 0.1\n",
    "            if g.get_mean_mz() >= cand_mz - tol and g.get_mean_mz() <= cand_mz + tol:\n",
    "                found = True\n",
    "                iso = i\n",
    "                break\n",
    "        if not found:\n",
    "            continue\n",
    "        corr = roi_correlation(roi,g)\n",
    "        if corr >= thresh:\n",
    "            correlators.append((g,iso)) \n",
    "    return correlators"
   ]
  },
  {
   "cell_type": "code",
   "execution_count": 188,
   "metadata": {},
   "outputs": [],
   "source": [
    "ppm = 10\n",
    "candidate_rois = {}\n",
    "for lipid,dets in lipids.items():\n",
    "    f = Formula(dets[0])\n",
    "    if ion_mode == 'Pos':\n",
    "        mz = at.mass2ion(f.isotope.mass,dets[4])\n",
    "    rt = dets[3]\n",
    "    tol = ppm*mz/1e6\n",
    "    candidate_rois[lipid] = {}\n",
    "    for time in time_map:\n",
    "        candidate_rois[lipid][time] = {}\n",
    "        candidates = list(filter(lambda x: x.get_mean_mz() >= mz - tol and x.get_mean_mz() <= mz + tol\n",
    "                                                  and abs(x.get_apex_rt() - rt) < 60,all_rois[time]))\n",
    "        for roi in candidates:\n",
    "            candidate_rois[lipid][time][roi] = get_correlators(roi,all_rois[time],ppm = 20)\n",
    "        "
   ]
  },
  {
   "cell_type": "markdown",
   "metadata": {},
   "source": [
    "For each lipid, we have candidate ROIs in each file"
   ]
  },
  {
   "cell_type": "code",
   "execution_count": 189,
   "metadata": {},
   "outputs": [
    {
     "name": "stdout",
     "output_type": "stream",
     "text": [
      "PC 34:1\n",
      "PC 34:2\n",
      "PC 34:0\n",
      "PC 34:0p\n",
      "PC 38:5p\n",
      "PC 38:4p\n",
      "{ROI with data points=17 mz (762.5993-762.5992) rt (665.2980-678.3720): {0: ROI with data points=17 mz (762.5993-762.5992) rt (665.2980-678.3720), 8: ROI with data points=17 mz (762.5990-762.5989) rt (665.3160-678.3840), 48: ROI with data points=13 mz (762.5981-762.6016) rt (666.9660-676.7700), 72: ROI with data points=14 mz (762.5981-762.6015) rt (667.7940-678.4020), 96: ROI with data points=12 mz (762.5985-762.6019) rt (667.9320-676.9440)}}\n"
     ]
    }
   ],
   "source": [
    "aligned_rois = {}\n",
    "for lipid in lipids:\n",
    "    aligned_rois[lipid] = {}\n",
    "    print(lipid)\n",
    "    # grab the time 0 ROIs\n",
    "    roi_set = list(candidate_rois[lipid][0])\n",
    "    \n",
    "    for start_roi in roi_set:\n",
    "        aligned_rois[lipid][start_roi] = {0:start_roi}\n",
    "        for time in time_map:\n",
    "            if time == 0:\n",
    "                continue\n",
    "            best = None\n",
    "            best_overlap = 0\n",
    "            for roi in candidate_rois[lipid][time]:\n",
    "                overlap = time_overlap(start_roi,roi)\n",
    "                if overlap > best_overlap:\n",
    "                    best = roi\n",
    "                    best_overlap = overlap\n",
    "            aligned_rois[lipid][start_roi][time] = best\n",
    "                    \n",
    "print(aligned_rois['PC 34:0'])"
   ]
  },
  {
   "cell_type": "code",
   "execution_count": 207,
   "metadata": {},
   "outputs": [
    {
     "name": "stdout",
     "output_type": "stream",
     "text": [
      "3\n"
     ]
    },
    {
     "ename": "ValueError",
     "evalue": "max() arg is an empty sequence",
     "output_type": "error",
     "traceback": [
      "\u001b[0;31m---------------------------------------------------------------------------\u001b[0m",
      "\u001b[0;31mValueError\u001b[0m                                Traceback (most recent call last)",
      "\u001b[0;32m<ipython-input-207-2b2a58b1451b>\u001b[0m in \u001b[0;36m<module>\u001b[0;34m\u001b[0m\n\u001b[1;32m      6\u001b[0m \u001b[0mmax_iso\u001b[0m \u001b[0;34m=\u001b[0m \u001b[0;36m0\u001b[0m\u001b[0;34m\u001b[0m\u001b[0;34m\u001b[0m\u001b[0m\n\u001b[1;32m      7\u001b[0m \u001b[0;32mfor\u001b[0m \u001b[0mtime\u001b[0m\u001b[0;34m,\u001b[0m\u001b[0mroi\u001b[0m \u001b[0;32min\u001b[0m \u001b[0maligned_rois\u001b[0m\u001b[0;34m[\u001b[0m\u001b[0mlipid\u001b[0m\u001b[0;34m]\u001b[0m\u001b[0;34m[\u001b[0m\u001b[0mstart_roi\u001b[0m\u001b[0;34m]\u001b[0m\u001b[0;34m.\u001b[0m\u001b[0mitems\u001b[0m\u001b[0;34m(\u001b[0m\u001b[0;34m)\u001b[0m\u001b[0;34m:\u001b[0m\u001b[0;34m\u001b[0m\u001b[0;34m\u001b[0m\u001b[0m\n\u001b[0;32m----> 8\u001b[0;31m     \u001b[0mn_iso\u001b[0m \u001b[0;34m=\u001b[0m \u001b[0mmax\u001b[0m\u001b[0;34m(\u001b[0m\u001b[0;34m[\u001b[0m\u001b[0mi\u001b[0m \u001b[0;32mfor\u001b[0m \u001b[0mg\u001b[0m\u001b[0;34m,\u001b[0m\u001b[0mi\u001b[0m \u001b[0;32min\u001b[0m \u001b[0mcandidate_rois\u001b[0m\u001b[0;34m[\u001b[0m\u001b[0mlipid\u001b[0m\u001b[0;34m]\u001b[0m\u001b[0;34m[\u001b[0m\u001b[0mtime\u001b[0m\u001b[0;34m]\u001b[0m\u001b[0;34m[\u001b[0m\u001b[0mroi\u001b[0m\u001b[0;34m]\u001b[0m\u001b[0;34m]\u001b[0m\u001b[0;34m)\u001b[0m\u001b[0;34m\u001b[0m\u001b[0;34m\u001b[0m\u001b[0m\n\u001b[0m\u001b[1;32m      9\u001b[0m     \u001b[0mmax_iso\u001b[0m \u001b[0;34m=\u001b[0m \u001b[0mmax\u001b[0m\u001b[0;34m(\u001b[0m\u001b[0mmax_iso\u001b[0m\u001b[0;34m,\u001b[0m\u001b[0mn_iso\u001b[0m\u001b[0;34m)\u001b[0m\u001b[0;34m\u001b[0m\u001b[0;34m\u001b[0m\u001b[0m\n\u001b[1;32m     10\u001b[0m \u001b[0mprint\u001b[0m\u001b[0;34m(\u001b[0m\u001b[0mmax_iso\u001b[0m\u001b[0;34m)\u001b[0m\u001b[0;34m\u001b[0m\u001b[0;34m\u001b[0m\u001b[0m\n",
      "\u001b[0;31mValueError\u001b[0m: max() arg is an empty sequence"
     ]
    }
   ],
   "source": [
    "lipid = 'PC 38:4p'\n",
    "n_times = len(time_map)\n",
    "print(len(aligned_rois[lipid].keys()))\n",
    "start_roi = list(aligned_rois[lipid].keys())[0]\n",
    "max_iso = len(candidate_rois[lipid][0][start_roi])\n",
    "max_iso = 0\n",
    "for time,roi in aligned_rois[lipid][start_roi].items():\n",
    "    n_iso = max([i for g,i in candidate_rois[lipid][time][roi]])\n",
    "    max_iso = max(max_iso,n_iso)\n",
    "print(max_iso)\n",
    "n_iso = max_iso + 1\n",
    "\n",
    "import numpy as np\n",
    "data_mat = np.zeros((n_times,n_iso))\n",
    "time_pos = 0\n",
    "\n",
    "time_list = [0,8,48,72,96]\n",
    "for time in time_list:\n",
    "    roi = aligned_rois[lipid][start_roi][time]\n",
    "    data_mat[time_pos,0] = roi.get_max_intensity()\n",
    "    scan_no = roi.get_apex_scan_no()\n",
    "    for other,iso_num in candidate_rois[lipid][time][roi]:\n",
    "#         pos = other.scan_n_list.index(scan_no)\n",
    "#         data_mat[time_pos,iso_num] = other.intensity_list[pos]\n",
    "          data_mat[time_pos,iso_num] = other.get_max_intensity()\n",
    "    time_pos += 1\n",
    "data_mat /= data_mat.sum(axis=1)[:,None]\n",
    "plt.imshow(data_mat,aspect='auto')\n",
    "plt.figure()\n",
    "p = fit(time_list,data_mat,make_plot = True)\n",
    "print(p)\n",
    "\n",
    "plt.figure()\n",
    "for t,r in aligned_rois[lipid][start_roi].items():\n",
    "    print(t,r)\n",
    "    plt.plot(r.rt_list,r.intensity_list,label = t)\n",
    "plt.legend()"
   ]
  },
  {
   "cell_type": "code",
   "execution_count": 208,
   "metadata": {},
   "outputs": [
    {
     "name": "stdout",
     "output_type": "stream",
     "text": [
      "{ROI with data points=10 mz (752.5558-752.5523) rt (633.7560-641.0520): [(ROI with data points=5 mz (753.5607-753.5572) rt (635.3760-638.6160), 1)], ROI with data points=6 mz (752.5591-752.5591) rt (668.7420-674.4720): [], ROI with data points=6 mz (752.5591-752.5592) rt (681.0480-685.1700): []}\n",
      "PC 38:4p 96\n",
      "752.5588673057707\n",
      "678.0\n"
     ]
    }
   ],
   "source": [
    "print(candidate_rois[lipid][time])\n",
    "print(lipid,time)\n",
    "PROTON_MASS = 1.00727645199076\n",
    "print(Formula('C43H78NO7P').isotope.mass + PROTON_MASS)\n",
    "print(11.3*60.0)"
   ]
  },
  {
   "cell_type": "code",
   "execution_count": 184,
   "metadata": {},
   "outputs": [
    {
     "name": "stdout",
     "output_type": "stream",
     "text": [
      "(ROI with data points=8 mz (763.5984-763.5984) rt (582.4680-588.1398), 5)\n",
      "(ROI with data points=14 mz (762.5909-762.5909) rt (580.8384-591.3816), 4)\n",
      "(ROI with data points=8 mz (767.5772-767.5773) rt (588.1398-593.8188), 9)\n",
      "(ROI with data points=10 mz (766.5724-766.5725) rt (588.1398-595.4478), 8)\n",
      "(ROI with data points=30 mz (761.5855-761.5855) rt (580.0212-603.5880), 3)\n",
      "(ROI with data points=41 mz (760.5783-760.5784) rt (579.2034-611.7420), 2)\n",
      "(ROI with data points=50 mz (759.5732-759.5663) rt (579.2034-619.8660), 1)\n",
      "ROI with data points=41 mz (760.5783-760.5784) rt (579.2034-611.7420)\n",
      "ROI with data points=41 mz (760.5854-760.5854) rt (617.4360-649.8720)\n",
      "ROI with data points=10 mz (760.6418-760.6417) rt (671.0340-678.4080)\n",
      "ROI with data points=21 mz (760.6206-760.6211) rt (679.2240-695.6940)\n"
     ]
    },
    {
     "data": {
      "text/plain": [
       "[<matplotlib.lines.Line2D at 0x7f69c3086c50>]"
      ]
     },
     "execution_count": 184,
     "metadata": {},
     "output_type": "execute_result"
    },
    {
     "data": {
      "image/png": "[encoded data removed]",
      "text/plain": [
       "<Figure size 432x288 with 1 Axes>"
      ]
     },
     "metadata": {
      "needs_background": "light"
     },
     "output_type": "display_data"
    }
   ],
   "source": [
    "ro = aligned_rois[lipid][start_roi][48]\n",
    "for r in candidate_rois[lipid][48][ro]:\n",
    "    print(r)\n",
    "possibles = list(filter(lambda x: x.get_mean_mz()>760 and x.get_mean_mz() < 761,all_rois[48]))\n",
    "for p in possibles:\n",
    "    print(p)\n",
    "p = possibles[0]\n",
    "roi_correlation(ro,p)\n",
    "plt.plot(ro.rt_list,ro.intensity_list)\n",
    "plt.plot(p.rt_list,p.intensity_list)"
   ]
  },
  {
   "cell_type": "code",
   "execution_count": 185,
   "metadata": {},
   "outputs": [],
   "source": [
    "def time_overlap(roi1,roi2):\n",
    "    start_time = sorted([roi1.rt_list[0],roi2.rt_list[0]])\n",
    "    end_time = sorted([roi1.rt_list[-1],roi2.rt_list[-1]])\n",
    "    overlap = (end_time[0] - start_time[1])/(end_time[1] - start_time[0])\n",
    "    return overlap\n",
    "    "
   ]
  },
  {
   "cell_type": "code",
   "execution_count": 75,
   "metadata": {},
   "outputs": [],
   "source": [
    "from scipy.optimize import minimize\n",
    "def min_func(x,*args):\n",
    "    # x = k: the rate constant\n",
    "    # *args\n",
    "    p = args\n",
    "    if p[0] == True:\n",
    "        # fix ends is true - fix the end points from the data - not recommended\n",
    "        t = p[1]\n",
    "        data = p[2]\n",
    "        a0 = p[3]\n",
    "        ai = p[4]\n",
    "        \n",
    "        k = x[0]\n",
    "    else:\n",
    "        t = p[1]\n",
    "        data = p[2]\n",
    "        \n",
    "        k = x[0]\n",
    "        a0 = x[1]\n",
    "        ai = x[2]\n",
    "\n",
    "    preds = a0 + (ai-a0)*(1-np.exp(-k*t))\n",
    "    return ((preds-data)**2).sum()\n",
    "\n",
    "\n",
    "def fit(times,data_mat,fix_ends = True,make_plot = True,options = {},method = 'L-BFGS-B'):\n",
    "\n",
    "    t = np.array(times)\n",
    "    \n",
    "    a0 = data_mat[0,0]\n",
    "    ai = data_mat[-1,0]\n",
    "        \n",
    "    k = 0.05\n",
    "    \n",
    "    if fix_ends:\n",
    "        args = (fix_ends,t,data_mat[:,0],a0,ai)\n",
    "        zinit = [k]\n",
    "    else:\n",
    "        args = (fix_ends,t,data_mat[:,0])\n",
    "        zinit = [k,a0,ai]\n",
    "    \n",
    "    end = minimize(min_func,zinit,args = args,method = method)\n",
    "    \n",
    "    if fix_ends:\n",
    "        k = end['x'][0]\n",
    "    else:\n",
    "        k = end['x'][0]\n",
    "        a0 = end['x'][1]\n",
    "        ai = end['x'][2]\n",
    "    \n",
    "    if make_plot:\n",
    "        plt.figure()\n",
    "        plt.plot(t,data_mat[:,0],'ro')\n",
    "        plt.plot(t,a0 + (ai-a0)*(1-np.exp(-k*t)))\n",
    "    \n",
    "    return (k,a0,ai)"
   ]
  },
  {
   "cell_type": "code",
   "execution_count": 38,
   "metadata": {},
   "outputs": [
    {
     "data": {
      "image/png": "[encoded data removed]",
      "text/plain": [
       "<Figure size 432x288 with 1 Axes>"
      ]
     },
     "metadata": {
      "needs_background": "light"
     },
     "output_type": "display_data"
    }
   ],
   "source": [
    "roi = candidate_rois[0]\n",
    "plt.figure()\n",
    "plt.plot([roi.get_mean_mz(),roi.get_mean_mz()],[0,roi.get_max_intensity()])\n",
    "for g in correlators[roi]:\n",
    "    plt.plot([g.get_mean_mz(),g.get_mean_mz()],[0,g.get_max_intensity()])"
   ]
  },
  {
   "cell_type": "code",
   "execution_count": 28,
   "metadata": {},
   "outputs": [
    {
     "name": "stdout",
     "output_type": "stream",
     "text": [
      "ROI with data points=43 mz (747.6091-747.6090) rt (650.6760-684.9360)\n",
      "ROI with data points=34 mz (748.6110-748.6110) rt (653.9340-680.8320)\n",
      "ROI with data points=22 mz (749.6116-749.6150) rt (655.5660-673.4700)\n",
      "ROI with data points=8 mz (750.6280-750.6281) rt (657.1980-662.8800)\n"
     ]
    }
   ],
   "source": [
    "for g in correlators[roi]:\n",
    "    print(g)"
   ]
  },
  {
   "cell_type": "code",
   "execution_count": 29,
   "metadata": {},
   "outputs": [
    {
     "name": "stdout",
     "output_type": "stream",
     "text": [
      "ROI with data points=12 mz (748.5113-748.5111) rt (563.7408-575.1342)\n",
      "ROI with data points=21 mz (748.5119-748.5120) rt (539.8422-557.1738)\n",
      "ROI with data points=12 mz (748.5190-748.5189) rt (523.3362-532.4142)\n",
      "ROI with data points=15 mz (748.5250-748.5286) rt (615.0000-626.3580)\n",
      "ROI with data points=14 mz (748.5363-748.5363) rt (343.4232-354.9768)\n",
      "ROI with data points=5 mz (748.5396-748.5431) rt (1305.5400-1310.4960)\n",
      "ROI with data points=15 mz (748.5399-748.5399) rt (198.1770-212.2068)\n",
      "ROI with data points=62 mz (748.5501-748.5501) rt (369.8328-421.0002)\n",
      "ROI with data points=67 mz (748.5499-748.5466) rt (437.5056-497.7516)\n",
      "ROI with data points=9 mz (748.5497-748.5499) rt (511.7814-519.2100)\n",
      "ROI with data points=14 mz (748.5501-748.5466) rt (423.4758-434.2044)\n",
      "ROI with data points=5 mz (748.5501-748.5501) rt (359.1036-362.4054)\n",
      "ROI with data points=10 mz (748.5765-748.5736) rt (685.7640-694.0140)\n",
      "ROI with data points=32 mz (748.5767-748.5766) rt (588.9492-614.1900)\n",
      "ROI with data points=31 mz (748.5836-748.5835) rt (627.1620-651.4920)\n",
      "ROI with data points=13 mz (748.5913-748.5913) rt (873.0900-883.8180)\n",
      "ROI with data points=34 mz (748.6110-748.6110) rt (653.9340-680.8320)\n"
     ]
    },
    {
     "data": {
      "text/plain": [
       "0.9976721436340907"
      ]
     },
     "execution_count": 29,
     "metadata": {},
     "output_type": "execute_result"
    }
   ],
   "source": [
    "gg = list(filter(lambda x: x.get_mean_mz() > 748.5 and x.get_mean_mz() < 748.62,good))\n",
    "for g in gg:\n",
    "    print(g)\n",
    "g = gg[-1]\n",
    "roi_correlation(roi,g)"
   ]
  },
  {
   "cell_type": "code",
   "execution_count": null,
   "metadata": {},
   "outputs": [],
   "source": []
  }
 ],
 "metadata": {
  "kernelspec": {
   "display_name": "Python 3",
   "language": "python",
   "name": "python3"
  },
  "language_info": {
   "codemirror_mode": {
    "name": "ipython",
    "version": 3
   },
   "file_extension": ".py",
   "mimetype": "text/x-python",
   "name": "python",
   "nbconvert_exporter": "python",
   "pygments_lexer": "ipython3",
   "version": "3.7.5"
  }
 },
 "nbformat": 4,
 "nbformat_minor": 4
}
